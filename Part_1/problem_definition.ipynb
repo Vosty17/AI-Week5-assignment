{
 "cells": [
  {
   "cell_type": "markdown",
   "id": "403b819a",
   "metadata": {},
   "source": [
    "# 1. Problem Definition (6 points)\n",
    "\n",
    "## Define a hypothetical AI problem (e.g., \"Predicting student dropout rates\").\n",
    "\"Predicting Crop Yield Based on Farming Practices and Environmental Factors.\"\n",
    "\n",
    "## List 3 objectives and 2 stakeholders.\n",
    "### Objectives\n",
    "Accurately predict crop yield to help farmers optimize resource allocation.\n",
    "Identify key factors (e.g., irrigation type, fertilizer use) that most significantly impact yield.\n",
    "Provide actionable insights to improve sustainable farming practices.\n",
    "\n",
    "### Stakeholders\n",
    "Farmers (primary users who benefit from yield predictions).\n",
    "Agricultural policymakers (use insights to design support programs).\n",
    "\n",
    "## Propose 1 Key Performance Indicator (KPI) to measure success.\n",
    "**Mean Absolute Error(MAE)** between predicted and actual yield, measuring prediction accuracy."
   ]
  },
  {
   "cell_type": "markdown",
   "id": "6d9dcddf",
   "metadata": {},
   "source": [
    "# 2. Data Collection & Preprocessing (8 points)\n",
    "\n",
    "## Identify 2 data sources for your problem.\n",
    "Kaggle.\n",
    "**IoT Sensors on Farms** (real-time soil moisture, weather conditions).\n",
    "## Explain 1 potential bias in the data.\n",
    "**Geographic Bias:** Data may overrepresent farms in certain regions, underrepresenting diverse soil types or climates.\n",
    "## Outline 3 preprocessing steps (e.g., handling missing data, normalization).\n",
    "**Handle Missing Data:** Impute missing values (e.g., median for numerical, mode for categorical).\n",
    "\n",
    "**Normalization:** Scale numerical features (e.g., **Farm_Area**) to a standard range (0–1) for model convergence.\n",
    "\n",
    "**Categorical Encoding:** Convert **Crop_Type** and **Irrigation_T** into numerical values (e.g., one-hot encoding)."
   ]
  },
  {
   "cell_type": "markdown",
   "id": "a9f78c46",
   "metadata": {},
   "source": [
    "## 3. Model Development (8 points)\n",
    "\n",
    "## Choose a model (e.g., Random Forest, Neural Network) and justify your choice.\n",
    "**Chosen Model: Random Forest**\n",
    "**Justification:** Handles mixed data types (numerical + categorical), provides feature importance, and resists overfitting.\n",
    "## Describe how you would split data into training/validation/test sets.\n",
    "**Training (70%):** Model learning.\n",
    "**Validation (15%):** Hyperparameter tuning.\n",
    "**Test (15%):** Final evaluation on unseen data.\n",
    "## Name 2 hyperparameters you would tune and why.\n",
    "**n_estimators:** Number of trees (balances accuracy vs. computational cost).\n",
    "**max_depth:** Controls tree complexity (prevents overfitting)."
   ]
  },
  {
   "cell_type": "markdown",
   "metadata": {},
   "source": [
    "# 4. Evaluation & Deployment (8 points)\n",
    "\n",
    "## Select 2 evaluation metrics and explain their relevance.\n",
    "**R² Score:** Measures variance in yield explained by the model (goal: close to 1).\n",
    "**Root Mean Squared Error (RMSE):** Penalizes large prediction errors (relevant for resource planning).\n",
    "## What is concept drift? How would you monitor it post-deployment?\n",
    "**Definition:** Shift in data distribution (e.g., climate change altering yield patterns) post-deployment.\n",
    "**Monitoring:** Track model performance decay over time using a small held-out dataset or statistical tests\n",
    "## Describe 1 technical challenge during deployment (e.g., scalability).\n",
    "**Scalability:** Handling real-time data from thousands of farms may require cloud-based solutions (e.g., AWS SageMaker) for distributed computing."
   ]
  }
 ],
 "metadata": {
  "language_info": {
   "name": "python"
  }
 },
 "nbformat": 4,
 "nbformat_minor": 5
}
